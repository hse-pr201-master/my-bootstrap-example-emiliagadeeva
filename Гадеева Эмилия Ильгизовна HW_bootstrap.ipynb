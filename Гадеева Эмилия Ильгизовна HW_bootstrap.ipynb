{
  "nbformat": 4,
  "nbformat_minor": 0,
  "metadata": {
    "colab": {
      "provenance": []
    },
    "kernelspec": {
      "name": "python3",
      "display_name": "Python 3"
    },
    "language_info": {
      "name": "python"
    }
  },
  "cells": [
    {
      "cell_type": "markdown",
      "source": [
        "В данной работе оценивается разность средних чеков на приобретение ПО компаний, получавших техническую поддержку от продавца и не получавших техническую поддержку.\n",
        "\n",
        "Таким образом можно предположить, стоит ли оказывать тех. поддержку клиентам компании или они в любом случае будут готовы заплатить компании в среднем такую же сумму.\n",
        "\n",
        "В данных содержится информация о клиентах-компаниях одной из стартап компаний, работающей при поддержке Microsoft. Однако, предположим, что на данный момент нам дана малая выборка - лишь 30 наблюдений (выборка сбалансирована). Первоначальный источник данных: https://www.kaggle.com/datasets/hwwang98/software-usage-promotion-campaign-uplift-model. (К сожалению, данные для быстрой проверки нужной статистики пришлось вставлять ручками, не успеваю разобраться с фильтрацией и обрезкой в питоне, слишком редко в нем работаю, предпочитаю R)"
      ],
      "metadata": {
        "id": "_bjEMvL9hM6x"
      }
    },
    {
      "cell_type": "code",
      "source": [
        "import numpy as np\n",
        "import pandas as pd\n",
        "import seaborn as sns"
      ],
      "metadata": {
        "id": "wMJAQxRkQEAh"
      },
      "execution_count": 11,
      "outputs": []
    },
    {
      "cell_type": "code",
      "source": [
        "!pip install arch"
      ],
      "metadata": {
        "colab": {
          "base_uri": "https://localhost:8080/"
        },
        "id": "8AlzGsIscLLQ",
        "outputId": "6a334d23-cb2a-4a15-bed5-9875170fb04a"
      },
      "execution_count": 2,
      "outputs": [
        {
          "output_type": "stream",
          "name": "stdout",
          "text": [
            "Collecting arch\n",
            "  Downloading arch-6.2.0-cp310-cp310-manylinux_2_17_x86_64.manylinux2014_x86_64.whl (981 kB)\n",
            "\u001b[2K     \u001b[90m━━━━━━━━━━━━━━━━━━━━━━━━━━━━━━━━━━━━━━━━\u001b[0m \u001b[32m981.7/981.7 kB\u001b[0m \u001b[31m10.9 MB/s\u001b[0m eta \u001b[36m0:00:00\u001b[0m\n",
            "\u001b[?25hRequirement already satisfied: numpy>=1.19 in /usr/local/lib/python3.10/dist-packages (from arch) (1.23.5)\n",
            "Requirement already satisfied: scipy>=1.5 in /usr/local/lib/python3.10/dist-packages (from arch) (1.11.3)\n",
            "Requirement already satisfied: pandas>=1.1 in /usr/local/lib/python3.10/dist-packages (from arch) (1.5.3)\n",
            "Requirement already satisfied: statsmodels>=0.12 in /usr/local/lib/python3.10/dist-packages (from arch) (0.14.0)\n",
            "Requirement already satisfied: python-dateutil>=2.8.1 in /usr/local/lib/python3.10/dist-packages (from pandas>=1.1->arch) (2.8.2)\n",
            "Requirement already satisfied: pytz>=2020.1 in /usr/local/lib/python3.10/dist-packages (from pandas>=1.1->arch) (2023.3.post1)\n",
            "Requirement already satisfied: patsy>=0.5.2 in /usr/local/lib/python3.10/dist-packages (from statsmodels>=0.12->arch) (0.5.3)\n",
            "Requirement already satisfied: packaging>=21.3 in /usr/local/lib/python3.10/dist-packages (from statsmodels>=0.12->arch) (23.2)\n",
            "Requirement already satisfied: six in /usr/local/lib/python3.10/dist-packages (from patsy>=0.5.2->statsmodels>=0.12->arch) (1.16.0)\n",
            "Installing collected packages: arch\n",
            "Successfully installed arch-6.2.0\n"
          ]
        }
      ]
    },
    {
      "cell_type": "code",
      "source": [
        "from arch.bootstrap import IIDBootstrap, IndependentSamplesBootstrap"
      ],
      "metadata": {
        "id": "n8cyu1dIcaUW"
      },
      "execution_count": 3,
      "outputs": []
    },
    {
      "cell_type": "markdown",
      "source": [
        "Задаем массив данных для компаний, получавших техническую поддержку."
      ],
      "metadata": {
        "id": "Cu_8CV0LOIlj"
      }
    },
    {
      "cell_type": "code",
      "source": [
        "support_false = np.array([17688.363, 14981.43559, 9153.974376, 5760.075096, 11972.18818, 2296.739654, 41743.72206, 9673.221778, 15397.70575, 6321.956387, 2694.216001, 2531.466231, 12387.81871, 9072.07955, 2868.606553])\n",
        "support_false"
      ],
      "metadata": {
        "id": "ivhOggneckvk",
        "colab": {
          "base_uri": "https://localhost:8080/"
        },
        "outputId": "744a0b58-3709-4085-ed9d-9854af1d7ef5"
      },
      "execution_count": 6,
      "outputs": [
        {
          "output_type": "execute_result",
          "data": {
            "text/plain": [
              "array([17688.363   , 14981.43559 ,  9153.974376,  5760.075096,\n",
              "       11972.18818 ,  2296.739654, 41743.72206 ,  9673.221778,\n",
              "       15397.70575 ,  6321.956387,  2694.216001,  2531.466231,\n",
              "       12387.81871 ,  9072.07955 ,  2868.606553])"
            ]
          },
          "metadata": {},
          "execution_count": 6
        }
      ]
    },
    {
      "cell_type": "markdown",
      "source": [
        "Задаем массив данных для компаний, не получавших техническую поддержку."
      ],
      "metadata": {
        "id": "z1dltYvxOcE-"
      }
    },
    {
      "cell_type": "code",
      "source": [
        "support_true = np.array([32917.13894, 14773.76855, 17098.69823, 17280.70918, 17265.11146, 21953.37179, 50875.56035, 22153.82215, 10063.85753, 10521.9988, 56307.34264, 21267.51393, 27860.93773, 19867.56935, 18647.91666])\n",
        "support_true"
      ],
      "metadata": {
        "colab": {
          "base_uri": "https://localhost:8080/"
        },
        "id": "GEuKF45FdCCk",
        "outputId": "b2d252fe-806d-4254-bc72-008b8a7adf84"
      },
      "execution_count": 7,
      "outputs": [
        {
          "output_type": "execute_result",
          "data": {
            "text/plain": [
              "array([32917.13894, 14773.76855, 17098.69823, 17280.70918, 17265.11146,\n",
              "       21953.37179, 50875.56035, 22153.82215, 10063.85753, 10521.9988 ,\n",
              "       56307.34264, 21267.51393, 27860.93773, 19867.56935, 18647.91666])"
            ]
          },
          "metadata": {},
          "execution_count": 7
        }
      ]
    },
    {
      "cell_type": "code",
      "source": [
        "def mean_diff(x, y):\n",
        "  return np.mean(y) - np.mean(x)"
      ],
      "metadata": {
        "id": "r4ouZx0vnvEi"
      },
      "execution_count": 9,
      "outputs": []
    },
    {
      "cell_type": "code",
      "source": [
        "boot_xy = IndependentSamplesBootstrap(support_true, support_false, seed=111111)\n",
        "boot_xy.conf_int(mean_diff, reps=10000, size=0.95, method='basic')"
      ],
      "metadata": {
        "colab": {
          "base_uri": "https://localhost:8080/"
        },
        "id": "jdUln7_XpgSr",
        "outputId": "1414ca04-8ec3-4132-f33c-356f16010693"
      },
      "execution_count": 10,
      "outputs": [
        {
          "output_type": "execute_result",
          "data": {
            "text/plain": [
              "array([[-20868.89078731],\n",
              "       [ -4687.94298978]])"
            ]
          },
          "metadata": {},
          "execution_count": 10
        }
      ]
    },
    {
      "cell_type": "markdown",
      "source": [
        "Таким образом, становится очевидно, что средний чек компаний, получавших техническую поддержку порядком меньше, чем средний чек компаний, не получавших техническную поддержку.\n",
        "\n",
        "Можно предположить, что стоит отказаться от предоставления технической поддержки как минимум на безвозмездной основе, так как тех. поддержка не помогает мотивировать клиента на бОльшие затраты.\n",
        "\n",
        "Однозначно, у этого исследования существуют серьезные ограничения (Кстати, очень бы хотелось увереннее понимать какие именно). Спасибо большое за увлекательную лекцию, теперь я не боюсь бутстрэпа:))"
      ],
      "metadata": {
        "id": "41xadzwgO-0A"
      }
    }
  ]
}
